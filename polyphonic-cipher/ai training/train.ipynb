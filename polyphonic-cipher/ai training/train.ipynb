{
 "cells": [
  {
   "cell_type": "code",
   "execution_count": null,
   "metadata": {
    "id": "X3C0uT4N2ZhU"
   },
   "outputs": [],
   "source": [
    "#----------------------------------------------------------------------\n",
    "# Imports\n",
    "#----------------------------------------------------------------------\n",
    "\n",
    "import torch\n",
    "import torch.nn as nn\n",
    "from torch.utils.data import DataLoader, TensorDataset, random_split\n",
    "\n",
    "import string, random\n",
    "import pandas as pd\n",
    "\n",
    "from tqdm import tqdm\n",
    "from typing import Union, List, Optional"
   ]
  },
  {
   "cell_type": "code",
   "execution_count": null,
   "metadata": {
    "id": "E9PdM40YDyGY"
   },
   "outputs": [],
   "source": [
    "# ---------------------------------------------------------------------\n",
    "# GRU Sequence Model\n",
    "# ---------------------------------------------------------------------\n",
    "class CipherNoiseLSTM(nn.Module):\n",
    "    \"\"\"Maps a sequence of tokens to a single class prediction using LSTM\"\"\"\n",
    "    def __init__(self,\n",
    "                 embed_dim: int,\n",
    "                 vocab_size: int,\n",
    "                 hidden_size: int,\n",
    "                 output_size: int,\n",
    "                 pad_idx: int,\n",
    "                 num_layers: int = 1,\n",
    "                 dropout: float = 0.4):\n",
    "\n",
    "        super().__init__()\n",
    "        self.embedding = nn.Embedding(vocab_size, embed_dim, padding_idx=pad_idx)\n",
    "        self.lstm = nn.LSTM(embed_dim,\n",
    "                           hidden_size,\n",
    "                           num_layers,\n",
    "                           batch_first=True,\n",
    "                           dropout=dropout if num_layers > 1 else 0,  # dropout only between layers\n",
    "                           bidirectional=True)\n",
    "        self.fc = nn.Linear(hidden_size * 2, output_size)  # Output size = num_classes\n",
    "\n",
    "    def forward(self, x: torch.Tensor) -> torch.Tensor:\n",
    "        \"\"\"Returns logits shaped [batch_size, output_size]\"\"\"\n",
    "        embedded = self.embedding(x)  # [B, L, D]\n",
    "        lstm_out, _ = self.lstm(embedded)  # [B, L, H*2]\n",
    "        # Take only the last output for many-to-one classification\n",
    "        last_output = lstm_out[:, -1, :]  # [B, H*2]\n",
    "        logits = self.fc(last_output)  # [B, output_size]\n",
    "        return logits"
   ]
  },
  {
   "cell_type": "code",
   "execution_count": null,
   "metadata": {
    "id": "vXHH0U2ZDwj4"
   },
   "outputs": [],
   "source": [
    "# ---------------------------------------------------------------------\n",
    "# GRU Sequence Model\n",
    "# ---------------------------------------------------------------------\n",
    "class CipherNoiseGRU(nn.Module):\n",
    "    \"\"\"Maps a sequence of tokens to a single class prediction\"\"\"\n",
    "    def __init__(self,\n",
    "                 embed_dim: int,\n",
    "                 vocab_size: int,\n",
    "                 hidden_size: int,\n",
    "                 output_size: int,\n",
    "                 pad_idx: int,\n",
    "                 num_layers: int = 1,\n",
    "                 dropout = 0.4):\n",
    "\n",
    "        super().__init__()\n",
    "        self.embedding = nn.Embedding(vocab_size, embed_dim, padding_idx=pad_idx)\n",
    "        self.gru = nn.GRU(embed_dim,\n",
    "                         hidden_size,\n",
    "                         num_layers,\n",
    "                         batch_first=True,\n",
    "                         dropout=dropout,\n",
    "                         bidirectional=True)\n",
    "        self.fc = nn.Linear(hidden_size  * 2, output_size)  # Output size = num_classes\n",
    "\n",
    "    def forward(self, x: torch.Tensor) -> torch.Tensor:\n",
    "        \"\"\"Returns logits shaped [batch_size, vocab_size]\"\"\"\n",
    "        embedded = self.embedding(x)  # [B, L, D]\n",
    "        gru_out, _ = self.gru(embedded)  # [B, L, H]\n",
    "        # Take only the last output for many-to-one classification\n",
    "        last_output = gru_out[:, -1, :]  # [B, H]\n",
    "        logits = self.fc(last_output)  # [B, vocab_size]\n",
    "        return logits"
   ]
  },
  {
   "cell_type": "code",
   "execution_count": null,
   "metadata": {
    "id": "KcjjaPS6ERc6"
   },
   "outputs": [],
   "source": [
    "def flexible_tokenizer(\n",
    "    word: Optional[str] = None,\n",
    "    tokens: Optional[List[int]] = None,\n",
    "    vocab: List[str] = None,\n",
    "    pad_len: Optional[int] = None,\n",
    "    unk_token: str = 'X'\n",
    ") -> Union[int, List[int], str]:\n",
    "    \"\"\"\n",
    "    Flexible version of your original tokenizer that:\n",
    "    - Takes vocabulary as input (not hardcoded)\n",
    "    - Handles both tokenization and detokenization\n",
    "    - Maintains all original padding behavior\n",
    "    \"\"\"\n",
    "    # Default to your original alphabet if no vocab provided\n",
    "    if vocab is None:\n",
    "        raise ValueError(\"No vocab was provided\")\n",
    "\n",
    "    # Detokenization mode (tokens → word)\n",
    "    if tokens is not None:\n",
    "        return ''.join([vocab[i] if i < len(vocab) else unk_token\n",
    "                       for i in tokens]).strip()\n",
    "\n",
    "    # Tokenization mode (word → tokens)\n",
    "    if word is not None and pad_len is not None:\n",
    "        if len(word) == 1:\n",
    "            try:\n",
    "                return vocab.index(word)\n",
    "            except ValueError:\n",
    "                return vocab.index(unk_token)\n",
    "\n",
    "        indices = [\n",
    "            vocab.index(c) if c in vocab else vocab.index(unk_token)\n",
    "            for c in word.lower()\n",
    "        ]\n",
    "        return indices[:pad_len] + [vocab.index(unk_token)] * max(0, pad_len - len(indices))\n",
    "\n",
    "    raise ValueError(\"Must provide either (word + pad_len) or tokens\")"
   ]
  },
  {
   "cell_type": "code",
   "execution_count": null,
   "metadata": {
    "colab": {
     "base_uri": "https://localhost:8080/"
    },
    "executionInfo": {
     "elapsed": 21823,
     "status": "ok",
     "timestamp": 1747170708160,
     "user": {
      "displayName": "chukwudi donald",
      "userId": "04653286918829027864"
     },
     "user_tz": 240
    },
    "id": "ptn0IpFGHBjh",
    "outputId": "bcc624b3-f7e3-49eb-b9f7-37785fd4bd4b"
   },
   "outputs": [],
   "source": [
    "from google.colab import drive\n",
    "### import drive here"
   ]
  },
  {
   "cell_type": "code",
   "execution_count": null,
   "metadata": {
    "colab": {
     "base_uri": "https://localhost:8080/"
    },
    "executionInfo": {
     "elapsed": 1679,
     "status": "ok",
     "timestamp": 1747170709861,
     "user": {
      "displayName": "chukwudi donald",
      "userId": "04653286918829027864"
     },
     "user_tz": 240
    },
    "id": "iVmpArcYGRzW",
    "outputId": "dac26e21-9e51-4481-c7d0-a6ec2ddf0fe4"
   },
   "outputs": [],
   "source": [
    "\n",
    "import os\n",
    "\n",
    "# Define paths\n",
    "cipher_dataset_path = 'enter path here'\n",
    "post_train_dataset_path = 'enter path here'\n",
    "\n",
    "print(os.path.exists(cipher_dataset_path))\n",
    "print(os.path.exists(post_train_dataset_path))"
   ]
  },
  {
   "cell_type": "code",
   "execution_count": null,
   "metadata": {
    "id": "uNeAkfo7KtC8"
   },
   "outputs": [],
   "source": [
    "#----------------------------------------------------------------------\n",
    "# load data-set\n",
    "#----------------------------------------------------------------------\n",
    "dataset_df  = pd.read_csv(cipher_dataset_path)"
   ]
  },
  {
   "cell_type": "code",
   "execution_count": null,
   "metadata": {
    "id": "lXvtwl-xLMTj"
   },
   "outputs": [],
   "source": [
    "#----------------------------------------------------------------------\n",
    "# calculate input and output pad\n",
    "#----------------------------------------------------------------------\n",
    "in_pad = in_pad = max(len(s) for s in dataset_df[\"input\"])"
   ]
  },
  {
   "cell_type": "code",
   "execution_count": null,
   "metadata": {
    "id": "VukC4xrJLYgC"
   },
   "outputs": [],
   "source": [
    "#----------------------------------------------------------------------\n",
    "# convert data-set to tokens\n",
    "#----------------------------------------------------------------------\n",
    "target_vocab = sorted(list(set(dataset_df[\"target\"])))\n",
    "input_vocab = list(string.ascii_lowercase) + ['[', ']', 'X', ' ']\n",
    "\n",
    "input_tokens = [flexible_tokenizer(word=w, pad_len=in_pad, vocab=input_vocab) for w in dataset_df[\"input\"]]\n",
    "target_tokens = [flexible_tokenizer(word=w, pad_len=in_pad, vocab=target_vocab) for w in dataset_df[\"target\"]]\n",
    "\n",
    "input_tensor =  torch.tensor(input_tokens, dtype=torch.long)\n",
    "target_tensor =  torch.tensor(target_tokens, dtype=torch.long)\n",
    "\n"
   ]
  },
  {
   "cell_type": "code",
   "execution_count": null,
   "metadata": {
    "id": "USqnZL3ULdWH"
   },
   "outputs": [],
   "source": [
    "# ---------------------------------------------------------------------\n",
    "# Hyper‑parameters\n",
    "# ---------------------------------------------------------------------\n",
    "VOCAB_SIZE   = len(input_vocab)\n",
    "PAD_IDX      = input_vocab.index('X')\n",
    "HIDDEN_SIZE  = 48\n",
    "EMBED_DIM    = 16\n",
    "NUM_LAYERS   = 3\n",
    "BATCH_SIZE   = 128\n",
    "LR           = 1e-3\n",
    "EPOCHS       = 50\n",
    "TRAIN_SPLIT  = 0.70\n",
    "SEED         = 42"
   ]
  },
  {
   "cell_type": "code",
   "execution_count": null,
   "metadata": {
    "id": "n1EP5G4x2UvK"
   },
   "outputs": [],
   "source": [
    "# ---------------------------------------------------------------------\n",
    "# Helper Functions (Adjusted for Many-to-1)\n",
    "# ---------------------------------------------------------------------\n",
    "def df_to_loader(df, batch_size=BATCH_SIZE, i_v = input_vocab, t_v = target_vocab, i_p= in_pad ):\n",
    "    # Convert DataFrame columns to tensors\n",
    "    x = [flexible_tokenizer(word=w, pad_len=i_p, vocab=input_vocab) for w in df[\"input\"]]\n",
    "    y = [flexible_tokenizer(word=w, pad_len=i_p, vocab=target_vocab) for w in df[\"target\"]]\n",
    "\n",
    "    inputs =  torch.tensor(x, dtype=torch.long)\n",
    "    targets =  torch.tensor(y, dtype=torch.long)\n",
    "\n",
    "\n",
    "    # Create TensorDataset and DataLoader\n",
    "    dataset = TensorDataset(inputs, targets)\n",
    "    return DataLoader(dataset, batch_size=batch_size, shuffle=True)\n",
    "\n",
    "def get_device() -> torch.device:\n",
    "    return torch.device(\"cuda\" if torch.cuda.is_available() else \"cpu\")\n",
    "\n",
    "def split_loaders(input_tensor: torch.Tensor,\n",
    "                 target_tensor: torch.Tensor,\n",
    "                 batch_size: int = BATCH_SIZE,\n",
    "                 train_split: float = TRAIN_SPLIT,\n",
    "                 seed: int = SEED):\n",
    "    \"\"\"Returns train_loader, val_loader after split\"\"\"\n",
    "    dataset = TensorDataset(input_tensor, target_tensor)\n",
    "    train_size = int(train_split * len(dataset))\n",
    "    val_size = len(dataset) - train_size\n",
    "    train_ds, val_ds = random_split(dataset,\n",
    "                                  [train_size, val_size],\n",
    "                                  generator=torch.Generator().manual_seed(seed))\n",
    "    train_loader = DataLoader(train_ds, batch_size=batch_size, shuffle=True)\n",
    "    val_loader = DataLoader(val_ds, batch_size=batch_size, shuffle=False)\n",
    "    return train_loader, val_loader\n",
    "\n",
    "def train(model: nn.Module,\n",
    "          train_loader: DataLoader,\n",
    "          val_loader: DataLoader,\n",
    "          num_epochs: int = EPOCHS,\n",
    "          lr: float = LR,\n",
    "          pad_idx: int = PAD_IDX):\n",
    "    device = get_device()\n",
    "    print(f\"Using device: {device}\\n\")\n",
    "    model.to(device)\n",
    "\n",
    "    optimizer = torch.optim.Adam(model.parameters(), lr=lr)\n",
    "    criterion = nn.CrossEntropyLoss(ignore_index=pad_idx)\n",
    "    scheduler = torch.optim.lr_scheduler.ReduceLROnPlateau(\n",
    "        optimizer,\n",
    "        mode='min',     # Monitor val loss\n",
    "        factor=0.1,     # LR *= 0.1\n",
    "        patience=5,     # Wait 5 epochs w/o improvement\n",
    "        min_lr=1e-5,    # Lower bound\n",
    "    )\n",
    "\n",
    "\n",
    "    for epoch in range(1, num_epochs + 1):\n",
    "        # Training\n",
    "        model.train()\n",
    "        train_loss, train_correct = 0.0, 0\n",
    "        pbar = tqdm(train_loader, desc=f\"Epoch {epoch}/{num_epochs}\")\n",
    "\n",
    "        for inputs, targets in pbar:\n",
    "            inputs, targets = inputs.to(device), targets.to(device)\n",
    "\n",
    "            optimizer.zero_grad()\n",
    "            logits = model(inputs)\n",
    "            loss = criterion(logits, targets)\n",
    "            loss.backward()\n",
    "            optimizer.step()\n",
    "\n",
    "            train_loss += loss.item()\n",
    "            train_correct += (logits.argmax(1) == targets).sum().item()\n",
    "            pbar.set_postfix(train_loss=train_loss/(pbar.n + 1))\n",
    "\n",
    "        # Validation\n",
    "        model.eval()\n",
    "        val_loss, val_correct = 0.0, 0\n",
    "        with torch.no_grad():\n",
    "            for inputs, targets in val_loader:\n",
    "                inputs, targets = inputs.to(device), targets.to(device)\n",
    "                logits = model(inputs)\n",
    "                val_loss += criterion(logits, targets).item()\n",
    "                val_correct += (logits.argmax(1) == targets).sum().item()\n",
    "\n",
    "        # Calculate metrics\n",
    "        train_loss /= len(train_loader)\n",
    "        val_loss /= len(val_loader)\n",
    "        train_acc = train_correct / len(train_loader.dataset)\n",
    "        val_acc = val_correct / len(val_loader.dataset)\n",
    "\n",
    "        # Update learning rate at the end of each epoch\n",
    "        scheduler.step(val_loss)\n",
    "\n",
    "\n",
    "        print(f\"Epoch {epoch:02d} | \"\n",
    "              f\"Train Loss: {train_loss:.4f} | Val Loss: {val_loss:.4f} | \"\n",
    "              f\"Train Acc: {train_acc:.2%} | Val Acc: {val_acc:.2%}\")\n",
    "\n"
   ]
  },
  {
   "cell_type": "code",
   "execution_count": null,
   "metadata": {
    "colab": {
     "base_uri": "https://localhost:8080/",
     "height": 1000
    },
    "executionInfo": {
     "elapsed": 398670,
     "status": "ok",
     "timestamp": 1746920132884,
     "user": {
      "displayName": "chukwudi donald",
      "userId": "04653286918829027864"
     },
     "user_tz": 240
    },
    "id": "yqgQQn1gLjR_",
    "outputId": "4a3f9100-fbe6-435e-adcc-f8c1d0ed288c"
   },
   "outputs": [],
   "source": [
    "# ---------------------------------------------------------------------\n",
    "# Example Usage\n",
    "# ---------------------------------------------------------------------\n",
    "\n",
    "train_loader, val_loader = split_loaders(input_tensor, target_tensor)\n",
    "\n",
    "gru_model = CipherNoiseGRU(embed_dim=EMBED_DIM,\n",
    "                      vocab_size=VOCAB_SIZE,\n",
    "                      hidden_size=HIDDEN_SIZE,\n",
    "                      pad_idx=PAD_IDX,\n",
    "                      num_layers=NUM_LAYERS,\n",
    "                      output_size=len(target_vocab))\n",
    "\n",
    "train(gru_model, train_loader, val_loader, lr=1e-3)\n"
   ]
  },
  {
   "cell_type": "code",
   "execution_count": null,
   "metadata": {
    "id": "MgeZzdcojqQ2"
   },
   "outputs": [],
   "source": [
    "post_train_df  = pd.read_csv(post_train_dataset_path)"
   ]
  },
  {
   "cell_type": "code",
   "execution_count": null,
   "metadata": {
    "id": "OhdOi8tRjtDX"
   },
   "outputs": [],
   "source": [
    "in_pad = 230"
   ]
  },
  {
   "cell_type": "code",
   "execution_count": null,
   "metadata": {
    "id": "RqJn4JGJjxAk"
   },
   "outputs": [],
   "source": [
    "\n",
    "input_tokens = [flexible_tokenizer(word=w, pad_len=in_pad, vocab=input_vocab) for w in post_train_df[\"input\"]]\n",
    "target_tokens = [flexible_tokenizer(word=w, pad_len=in_pad, vocab=target_vocab) for w in post_train_df[\"target\"]]\n",
    "\n",
    "\n",
    "input_tensor =  torch.tensor(input_tokens, dtype=torch.long)\n",
    "target_tensor =  torch.tensor(target_tokens, dtype=torch.long)"
   ]
  },
  {
   "cell_type": "code",
   "execution_count": null,
   "metadata": {
    "colab": {
     "base_uri": "https://localhost:8080/",
     "height": 1000
    },
    "executionInfo": {
     "elapsed": 2082300,
     "status": "ok",
     "timestamp": 1746922486235,
     "user": {
      "displayName": "chukwudi donald",
      "userId": "04653286918829027864"
     },
     "user_tz": 240
    },
    "id": "GVJ90BCcwbx_",
    "outputId": "0f431745-4724-4165-b20c-9230b853c053"
   },
   "outputs": [],
   "source": [
    "train_loader, val_loader = split_loaders(input_tensor, target_tensor)\n",
    "train(gru_model, train_loader, val_loader, lr=1e-3)"
   ]
  },
  {
   "cell_type": "code",
   "execution_count": null,
   "metadata": {
    "id": "GH4o8TAwj-kP"
   },
   "outputs": [],
   "source": [
    "torch.save(gru_model.state_dict(), 'enter path here')"
   ]
  },
  {
   "cell_type": "code",
   "execution_count": null,
   "metadata": {
    "id": "5PC3toGFtCCy"
   },
   "outputs": [],
   "source": []
  }
 ],
 "metadata": {
  "accelerator": "GPU",
  "colab": {
   "authorship_tag": "ABX9TyMqrBorPrdorMoC1UW1AYNA",
   "gpuType": "A100",
   "machine_shape": "hm",
   "provenance": []
  },
  "kernelspec": {
   "display_name": "Python 3",
   "name": "python3"
  },
  "language_info": {
   "name": "python"
  }
 },
 "nbformat": 4,
 "nbformat_minor": 0
}
